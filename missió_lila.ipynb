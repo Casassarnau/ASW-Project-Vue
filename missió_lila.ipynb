{
  "cells": [
    {
      "cell_type": "markdown",
      "metadata": {
        "id": "view-in-github",
        "colab_type": "text"
      },
      "source": [
        "<a href=\"https://colab.research.google.com/github/Casassarnau/ASW-Project-Vue/blob/master/missi%C3%B3_lila.ipynb\" target=\"_parent\"><img src=\"https://colab.research.google.com/assets/colab-badge.svg\" alt=\"Open In Colab\"/></a>"
      ]
    },
    {
      "cell_type": "markdown",
      "source": [
        "# 💜 MISSIÓ LILA 💜"
      ],
      "metadata": {
        "id": "M61lEDLE-PKj"
      }
    },
    {
      "cell_type": "markdown",
      "metadata": {
        "id": "5wmrPRpEpqSF"
      },
      "source": [
        "## Objectius \n",
        "\n",
        "Volem que implementeu un model o algoritme que permeti classificar del dataset A2 si aquella imatge hi ha error o no. Ens agradaria que mostressiu alguna gràfica de l'entrenament del model (en cas de fer ML) o mètriques qualitatives ( accuracy, recall, f1...) i quantitatives (matrius de confusió, ROC curve...)."
      ]
    },
    {
      "cell_type": "markdown",
      "source": [
        "# Setup\n",
        "\n",
        "Install libraries"
      ],
      "metadata": {
        "id": "vihwQGNRqY1z"
      }
    },
    {
      "cell_type": "code",
      "execution_count": 1,
      "metadata": {
        "id": "9ex2tFaMpirc"
      },
      "outputs": [],
      "source": [
        "import pandas as pd\n",
        "import numpy as np\n",
        "import tensorflow as tf\n",
        "import matplotlib.pyplot as plt"
      ]
    },
    {
      "cell_type": "markdown",
      "source": [
        "Mount drive volume into google colab"
      ],
      "metadata": {
        "id": "GXrygoP8qejs"
      }
    },
    {
      "cell_type": "code",
      "execution_count": 2,
      "metadata": {
        "colab": {
          "base_uri": "https://localhost:8080/"
        },
        "id": "tW8QkKKEeepN",
        "outputId": "74578249-be3a-42fe-f364-9a508a5d35cc"
      },
      "outputs": [
        {
          "output_type": "stream",
          "name": "stdout",
          "text": [
            "Drive already mounted at /content/gdrive; to attempt to forcibly remount, call drive.mount(\"/content/gdrive\", force_remount=True).\n"
          ]
        }
      ],
      "source": [
        "from google.colab import drive\n",
        "drive.mount('/content/gdrive')"
      ]
    },
    {
      "cell_type": "markdown",
      "metadata": {
        "id": "e2_1p2qfeh2l"
      },
      "source": [
        "## Extreure les dades"
      ]
    },
    {
      "cell_type": "markdown",
      "source": [
        "Unziped all images and information to our drive"
      ],
      "metadata": {
        "id": "wahbibcQqtmj"
      }
    },
    {
      "cell_type": "code",
      "execution_count": null,
      "metadata": {
        "id": "qWQyOcq0ehLC"
      },
      "outputs": [],
      "source": [
        "#!unzip \"gdrive/MyDrive/HackEPS2022/data/A1.zip\" -d \"gdrive/MyDrive/HackEPS2022/data/lila\""
      ]
    },
    {
      "cell_type": "markdown",
      "source": [
        "Loading all information into a dataframe"
      ],
      "metadata": {
        "id": "s314_VJfq4yV"
      }
    },
    {
      "cell_type": "code",
      "execution_count": 3,
      "metadata": {
        "colab": {
          "base_uri": "https://localhost:8080/"
        },
        "id": "t6HD7V94fDPv",
        "outputId": "3fc729ea-2f1e-4024-efce-3dc43bb4a927"
      },
      "outputs": [
        {
          "output_type": "execute_result",
          "data": {
            "text/plain": [
              "(3211, 7)"
            ]
          },
          "metadata": {},
          "execution_count": 3
        }
      ],
      "source": [
        "train_df = pd.read_csv(\"gdrive/MyDrive/HackEPS2022/groc.csv\")\n",
        "train_df.shape"
      ]
    },
    {
      "cell_type": "markdown",
      "metadata": {
        "id": "1LPIsgU_gEp9"
      },
      "source": [
        "##Preprocessing"
      ]
    },
    {
      "cell_type": "code",
      "execution_count": 4,
      "metadata": {
        "colab": {
          "base_uri": "https://localhost:8080/"
        },
        "id": "ooOYENLIgDOb",
        "outputId": "5fe6f866-e369-4749-a07b-8763a01ba90d"
      },
      "outputs": [
        {
          "output_type": "stream",
          "name": "stdout",
          "text": [
            "<class 'pandas.core.frame.DataFrame'>\n",
            "RangeIndex: 3211 entries, 0 to 3210\n",
            "Data columns (total 7 columns):\n",
            " #   Column      Non-Null Count  Dtype \n",
            "---  ------      --------------  ----- \n",
            " 0   Unnamed: 0  3211 non-null   int64 \n",
            " 1   c           3211 non-null   object\n",
            " 2   r           3211 non-null   object\n",
            " 3   e           3211 non-null   object\n",
            " 4   name        3211 non-null   object\n",
            " 5   path        3211 non-null   object\n",
            " 6   tipus       3211 non-null   object\n",
            "dtypes: int64(1), object(6)\n",
            "memory usage: 175.7+ KB\n"
          ]
        }
      ],
      "source": [
        "train_df.info()"
      ]
    },
    {
      "cell_type": "code",
      "execution_count": 5,
      "metadata": {
        "colab": {
          "base_uri": "https://localhost:8080/",
          "height": 520
        },
        "id": "POYqQ2vNgJtQ",
        "outputId": "05859c37-74bb-4dfa-d4e7-de35e66ef875"
      },
      "outputs": [
        {
          "output_type": "execute_result",
          "data": {
            "text/plain": [
              "    Unnamed: 0   c   r   e       name  \\\n",
              "0            0  c3  r1  e3  c3r1e3n12   \n",
              "1            1  c3  r1  e3  c3r1e3n28   \n",
              "2            2  c3  r1  e3  c3r1e3n25   \n",
              "3            3  c3  r1  e3  c3r1e3n11   \n",
              "4            4  c3  r1  e3  c3r1e3n47   \n",
              "5            5  c3  r1  e3  c3r1e3n43   \n",
              "6            6  c3  r1  e3   c3r1e3n5   \n",
              "7            7  c3  r1  e3  c3r1e3n44   \n",
              "8            8  c3  r1  e3  c3r1e3n30   \n",
              "9            9  c3  r1  e3  c3r1e3n41   \n",
              "10          10  c3  r1  e3  c3r1e3n39   \n",
              "11          11  c3  r1  e3  c3r1e3n40   \n",
              "12          12  c3  r1  e3  c3r1e3n13   \n",
              "13          13  c3  r1  e3  c3r1e3n22   \n",
              "14          14  c3  r1  e3  c3r1e3n17   \n",
              "\n",
              "                                             path         tipus  \n",
              "0   badata/cd1/data/c3/r1/images/e3/c3r1e3n12.tif  Quart teixit  \n",
              "1   badata/cd1/data/c3/r1/images/e3/c3r1e3n28.tif  Quart teixit  \n",
              "2   badata/cd1/data/c3/r1/images/e3/c3r1e3n25.tif  Quart teixit  \n",
              "3   badata/cd1/data/c3/r1/images/e3/c3r1e3n11.tif  Quart teixit  \n",
              "4   badata/cd1/data/c3/r1/images/e3/c3r1e3n47.tif  Quart teixit  \n",
              "5   badata/cd1/data/c3/r1/images/e3/c3r1e3n43.tif  Quart teixit  \n",
              "6    badata/cd1/data/c3/r1/images/e3/c3r1e3n5.tif  Quart teixit  \n",
              "7   badata/cd1/data/c3/r1/images/e3/c3r1e3n44.tif  Quart teixit  \n",
              "8   badata/cd1/data/c3/r1/images/e3/c3r1e3n30.tif  Quart teixit  \n",
              "9   badata/cd1/data/c3/r1/images/e3/c3r1e3n41.tif  Quart teixit  \n",
              "10  badata/cd1/data/c3/r1/images/e3/c3r1e3n39.tif  Quart teixit  \n",
              "11  badata/cd1/data/c3/r1/images/e3/c3r1e3n40.tif  Quart teixit  \n",
              "12  badata/cd1/data/c3/r1/images/e3/c3r1e3n13.tif  Quart teixit  \n",
              "13  badata/cd1/data/c3/r1/images/e3/c3r1e3n22.tif  Quart teixit  \n",
              "14  badata/cd1/data/c3/r1/images/e3/c3r1e3n17.tif  Quart teixit  "
            ],
            "text/html": [
              "\n",
              "  <div id=\"df-9909804c-1537-4ed4-81bc-5af3bc3dba16\">\n",
              "    <div class=\"colab-df-container\">\n",
              "      <div>\n",
              "<style scoped>\n",
              "    .dataframe tbody tr th:only-of-type {\n",
              "        vertical-align: middle;\n",
              "    }\n",
              "\n",
              "    .dataframe tbody tr th {\n",
              "        vertical-align: top;\n",
              "    }\n",
              "\n",
              "    .dataframe thead th {\n",
              "        text-align: right;\n",
              "    }\n",
              "</style>\n",
              "<table border=\"1\" class=\"dataframe\">\n",
              "  <thead>\n",
              "    <tr style=\"text-align: right;\">\n",
              "      <th></th>\n",
              "      <th>Unnamed: 0</th>\n",
              "      <th>c</th>\n",
              "      <th>r</th>\n",
              "      <th>e</th>\n",
              "      <th>name</th>\n",
              "      <th>path</th>\n",
              "      <th>tipus</th>\n",
              "    </tr>\n",
              "  </thead>\n",
              "  <tbody>\n",
              "    <tr>\n",
              "      <th>0</th>\n",
              "      <td>0</td>\n",
              "      <td>c3</td>\n",
              "      <td>r1</td>\n",
              "      <td>e3</td>\n",
              "      <td>c3r1e3n12</td>\n",
              "      <td>badata/cd1/data/c3/r1/images/e3/c3r1e3n12.tif</td>\n",
              "      <td>Quart teixit</td>\n",
              "    </tr>\n",
              "    <tr>\n",
              "      <th>1</th>\n",
              "      <td>1</td>\n",
              "      <td>c3</td>\n",
              "      <td>r1</td>\n",
              "      <td>e3</td>\n",
              "      <td>c3r1e3n28</td>\n",
              "      <td>badata/cd1/data/c3/r1/images/e3/c3r1e3n28.tif</td>\n",
              "      <td>Quart teixit</td>\n",
              "    </tr>\n",
              "    <tr>\n",
              "      <th>2</th>\n",
              "      <td>2</td>\n",
              "      <td>c3</td>\n",
              "      <td>r1</td>\n",
              "      <td>e3</td>\n",
              "      <td>c3r1e3n25</td>\n",
              "      <td>badata/cd1/data/c3/r1/images/e3/c3r1e3n25.tif</td>\n",
              "      <td>Quart teixit</td>\n",
              "    </tr>\n",
              "    <tr>\n",
              "      <th>3</th>\n",
              "      <td>3</td>\n",
              "      <td>c3</td>\n",
              "      <td>r1</td>\n",
              "      <td>e3</td>\n",
              "      <td>c3r1e3n11</td>\n",
              "      <td>badata/cd1/data/c3/r1/images/e3/c3r1e3n11.tif</td>\n",
              "      <td>Quart teixit</td>\n",
              "    </tr>\n",
              "    <tr>\n",
              "      <th>4</th>\n",
              "      <td>4</td>\n",
              "      <td>c3</td>\n",
              "      <td>r1</td>\n",
              "      <td>e3</td>\n",
              "      <td>c3r1e3n47</td>\n",
              "      <td>badata/cd1/data/c3/r1/images/e3/c3r1e3n47.tif</td>\n",
              "      <td>Quart teixit</td>\n",
              "    </tr>\n",
              "    <tr>\n",
              "      <th>5</th>\n",
              "      <td>5</td>\n",
              "      <td>c3</td>\n",
              "      <td>r1</td>\n",
              "      <td>e3</td>\n",
              "      <td>c3r1e3n43</td>\n",
              "      <td>badata/cd1/data/c3/r1/images/e3/c3r1e3n43.tif</td>\n",
              "      <td>Quart teixit</td>\n",
              "    </tr>\n",
              "    <tr>\n",
              "      <th>6</th>\n",
              "      <td>6</td>\n",
              "      <td>c3</td>\n",
              "      <td>r1</td>\n",
              "      <td>e3</td>\n",
              "      <td>c3r1e3n5</td>\n",
              "      <td>badata/cd1/data/c3/r1/images/e3/c3r1e3n5.tif</td>\n",
              "      <td>Quart teixit</td>\n",
              "    </tr>\n",
              "    <tr>\n",
              "      <th>7</th>\n",
              "      <td>7</td>\n",
              "      <td>c3</td>\n",
              "      <td>r1</td>\n",
              "      <td>e3</td>\n",
              "      <td>c3r1e3n44</td>\n",
              "      <td>badata/cd1/data/c3/r1/images/e3/c3r1e3n44.tif</td>\n",
              "      <td>Quart teixit</td>\n",
              "    </tr>\n",
              "    <tr>\n",
              "      <th>8</th>\n",
              "      <td>8</td>\n",
              "      <td>c3</td>\n",
              "      <td>r1</td>\n",
              "      <td>e3</td>\n",
              "      <td>c3r1e3n30</td>\n",
              "      <td>badata/cd1/data/c3/r1/images/e3/c3r1e3n30.tif</td>\n",
              "      <td>Quart teixit</td>\n",
              "    </tr>\n",
              "    <tr>\n",
              "      <th>9</th>\n",
              "      <td>9</td>\n",
              "      <td>c3</td>\n",
              "      <td>r1</td>\n",
              "      <td>e3</td>\n",
              "      <td>c3r1e3n41</td>\n",
              "      <td>badata/cd1/data/c3/r1/images/e3/c3r1e3n41.tif</td>\n",
              "      <td>Quart teixit</td>\n",
              "    </tr>\n",
              "    <tr>\n",
              "      <th>10</th>\n",
              "      <td>10</td>\n",
              "      <td>c3</td>\n",
              "      <td>r1</td>\n",
              "      <td>e3</td>\n",
              "      <td>c3r1e3n39</td>\n",
              "      <td>badata/cd1/data/c3/r1/images/e3/c3r1e3n39.tif</td>\n",
              "      <td>Quart teixit</td>\n",
              "    </tr>\n",
              "    <tr>\n",
              "      <th>11</th>\n",
              "      <td>11</td>\n",
              "      <td>c3</td>\n",
              "      <td>r1</td>\n",
              "      <td>e3</td>\n",
              "      <td>c3r1e3n40</td>\n",
              "      <td>badata/cd1/data/c3/r1/images/e3/c3r1e3n40.tif</td>\n",
              "      <td>Quart teixit</td>\n",
              "    </tr>\n",
              "    <tr>\n",
              "      <th>12</th>\n",
              "      <td>12</td>\n",
              "      <td>c3</td>\n",
              "      <td>r1</td>\n",
              "      <td>e3</td>\n",
              "      <td>c3r1e3n13</td>\n",
              "      <td>badata/cd1/data/c3/r1/images/e3/c3r1e3n13.tif</td>\n",
              "      <td>Quart teixit</td>\n",
              "    </tr>\n",
              "    <tr>\n",
              "      <th>13</th>\n",
              "      <td>13</td>\n",
              "      <td>c3</td>\n",
              "      <td>r1</td>\n",
              "      <td>e3</td>\n",
              "      <td>c3r1e3n22</td>\n",
              "      <td>badata/cd1/data/c3/r1/images/e3/c3r1e3n22.tif</td>\n",
              "      <td>Quart teixit</td>\n",
              "    </tr>\n",
              "    <tr>\n",
              "      <th>14</th>\n",
              "      <td>14</td>\n",
              "      <td>c3</td>\n",
              "      <td>r1</td>\n",
              "      <td>e3</td>\n",
              "      <td>c3r1e3n17</td>\n",
              "      <td>badata/cd1/data/c3/r1/images/e3/c3r1e3n17.tif</td>\n",
              "      <td>Quart teixit</td>\n",
              "    </tr>\n",
              "  </tbody>\n",
              "</table>\n",
              "</div>\n",
              "      <button class=\"colab-df-convert\" onclick=\"convertToInteractive('df-9909804c-1537-4ed4-81bc-5af3bc3dba16')\"\n",
              "              title=\"Convert this dataframe to an interactive table.\"\n",
              "              style=\"display:none;\">\n",
              "        \n",
              "  <svg xmlns=\"http://www.w3.org/2000/svg\" height=\"24px\"viewBox=\"0 0 24 24\"\n",
              "       width=\"24px\">\n",
              "    <path d=\"M0 0h24v24H0V0z\" fill=\"none\"/>\n",
              "    <path d=\"M18.56 5.44l.94 2.06.94-2.06 2.06-.94-2.06-.94-.94-2.06-.94 2.06-2.06.94zm-11 1L8.5 8.5l.94-2.06 2.06-.94-2.06-.94L8.5 2.5l-.94 2.06-2.06.94zm10 10l.94 2.06.94-2.06 2.06-.94-2.06-.94-.94-2.06-.94 2.06-2.06.94z\"/><path d=\"M17.41 7.96l-1.37-1.37c-.4-.4-.92-.59-1.43-.59-.52 0-1.04.2-1.43.59L10.3 9.45l-7.72 7.72c-.78.78-.78 2.05 0 2.83L4 21.41c.39.39.9.59 1.41.59.51 0 1.02-.2 1.41-.59l7.78-7.78 2.81-2.81c.8-.78.8-2.07 0-2.86zM5.41 20L4 18.59l7.72-7.72 1.47 1.35L5.41 20z\"/>\n",
              "  </svg>\n",
              "      </button>\n",
              "      \n",
              "  <style>\n",
              "    .colab-df-container {\n",
              "      display:flex;\n",
              "      flex-wrap:wrap;\n",
              "      gap: 12px;\n",
              "    }\n",
              "\n",
              "    .colab-df-convert {\n",
              "      background-color: #E8F0FE;\n",
              "      border: none;\n",
              "      border-radius: 50%;\n",
              "      cursor: pointer;\n",
              "      display: none;\n",
              "      fill: #1967D2;\n",
              "      height: 32px;\n",
              "      padding: 0 0 0 0;\n",
              "      width: 32px;\n",
              "    }\n",
              "\n",
              "    .colab-df-convert:hover {\n",
              "      background-color: #E2EBFA;\n",
              "      box-shadow: 0px 1px 2px rgba(60, 64, 67, 0.3), 0px 1px 3px 1px rgba(60, 64, 67, 0.15);\n",
              "      fill: #174EA6;\n",
              "    }\n",
              "\n",
              "    [theme=dark] .colab-df-convert {\n",
              "      background-color: #3B4455;\n",
              "      fill: #D2E3FC;\n",
              "    }\n",
              "\n",
              "    [theme=dark] .colab-df-convert:hover {\n",
              "      background-color: #434B5C;\n",
              "      box-shadow: 0px 1px 3px 1px rgba(0, 0, 0, 0.15);\n",
              "      filter: drop-shadow(0px 1px 2px rgba(0, 0, 0, 0.3));\n",
              "      fill: #FFFFFF;\n",
              "    }\n",
              "  </style>\n",
              "\n",
              "      <script>\n",
              "        const buttonEl =\n",
              "          document.querySelector('#df-9909804c-1537-4ed4-81bc-5af3bc3dba16 button.colab-df-convert');\n",
              "        buttonEl.style.display =\n",
              "          google.colab.kernel.accessAllowed ? 'block' : 'none';\n",
              "\n",
              "        async function convertToInteractive(key) {\n",
              "          const element = document.querySelector('#df-9909804c-1537-4ed4-81bc-5af3bc3dba16');\n",
              "          const dataTable =\n",
              "            await google.colab.kernel.invokeFunction('convertToInteractive',\n",
              "                                                     [key], {});\n",
              "          if (!dataTable) return;\n",
              "\n",
              "          const docLinkHtml = 'Like what you see? Visit the ' +\n",
              "            '<a target=\"_blank\" href=https://colab.research.google.com/notebooks/data_table.ipynb>data table notebook</a>'\n",
              "            + ' to learn more about interactive tables.';\n",
              "          element.innerHTML = '';\n",
              "          dataTable['output_type'] = 'display_data';\n",
              "          await google.colab.output.renderOutput(dataTable, element);\n",
              "          const docLink = document.createElement('div');\n",
              "          docLink.innerHTML = docLinkHtml;\n",
              "          element.appendChild(docLink);\n",
              "        }\n",
              "      </script>\n",
              "    </div>\n",
              "  </div>\n",
              "  "
            ]
          },
          "metadata": {},
          "execution_count": 5
        }
      ],
      "source": [
        "train_df.head(15)"
      ]
    },
    {
      "cell_type": "markdown",
      "source": [
        "Translating the string into id types"
      ],
      "metadata": {
        "id": "7RYWRscKrJJU"
      }
    },
    {
      "cell_type": "code",
      "execution_count": 6,
      "metadata": {
        "id": "Gdb4R46Qgp2I"
      },
      "outputs": [],
      "source": [
        "translator = {\"Estampado\": 0, \"Primer teixit\": 1, \"Segon teixit\": 2, \"Tercer teixit\": 3, \"Quart teixit\": 4, \"Cinqué teixit\": 5}\n",
        "train_df[\"tipus\"] = train_df.tipus.map(lambda row_tipus: translator.get(row_tipus))"
      ]
    },
    {
      "cell_type": "markdown",
      "source": [
        "Getting rid of the unnecessary data, we only want path and the type id"
      ],
      "metadata": {
        "id": "0UrqBeDNrRU1"
      }
    },
    {
      "cell_type": "code",
      "execution_count": 7,
      "metadata": {
        "id": "qgqxmPdXjS10"
      },
      "outputs": [],
      "source": [
        "train_df = train_df[[\"path\", \"tipus\"]]\n"
      ]
    },
    {
      "cell_type": "code",
      "execution_count": 8,
      "metadata": {
        "colab": {
          "base_uri": "https://localhost:8080/",
          "height": 206
        },
        "id": "l5sJQzUMjeZY",
        "outputId": "d65710c4-17b3-4122-8a3b-cd705ba6388b"
      },
      "outputs": [
        {
          "output_type": "execute_result",
          "data": {
            "text/plain": [
              "                                            path  tipus\n",
              "0  badata/cd1/data/c3/r1/images/e3/c3r1e3n12.tif      4\n",
              "1  badata/cd1/data/c3/r1/images/e3/c3r1e3n28.tif      4\n",
              "2  badata/cd1/data/c3/r1/images/e3/c3r1e3n25.tif      4\n",
              "3  badata/cd1/data/c3/r1/images/e3/c3r1e3n11.tif      4\n",
              "4  badata/cd1/data/c3/r1/images/e3/c3r1e3n47.tif      4"
            ],
            "text/html": [
              "\n",
              "  <div id=\"df-6c0bd047-ff5d-47a1-b814-046f04d81782\">\n",
              "    <div class=\"colab-df-container\">\n",
              "      <div>\n",
              "<style scoped>\n",
              "    .dataframe tbody tr th:only-of-type {\n",
              "        vertical-align: middle;\n",
              "    }\n",
              "\n",
              "    .dataframe tbody tr th {\n",
              "        vertical-align: top;\n",
              "    }\n",
              "\n",
              "    .dataframe thead th {\n",
              "        text-align: right;\n",
              "    }\n",
              "</style>\n",
              "<table border=\"1\" class=\"dataframe\">\n",
              "  <thead>\n",
              "    <tr style=\"text-align: right;\">\n",
              "      <th></th>\n",
              "      <th>path</th>\n",
              "      <th>tipus</th>\n",
              "    </tr>\n",
              "  </thead>\n",
              "  <tbody>\n",
              "    <tr>\n",
              "      <th>0</th>\n",
              "      <td>badata/cd1/data/c3/r1/images/e3/c3r1e3n12.tif</td>\n",
              "      <td>4</td>\n",
              "    </tr>\n",
              "    <tr>\n",
              "      <th>1</th>\n",
              "      <td>badata/cd1/data/c3/r1/images/e3/c3r1e3n28.tif</td>\n",
              "      <td>4</td>\n",
              "    </tr>\n",
              "    <tr>\n",
              "      <th>2</th>\n",
              "      <td>badata/cd1/data/c3/r1/images/e3/c3r1e3n25.tif</td>\n",
              "      <td>4</td>\n",
              "    </tr>\n",
              "    <tr>\n",
              "      <th>3</th>\n",
              "      <td>badata/cd1/data/c3/r1/images/e3/c3r1e3n11.tif</td>\n",
              "      <td>4</td>\n",
              "    </tr>\n",
              "    <tr>\n",
              "      <th>4</th>\n",
              "      <td>badata/cd1/data/c3/r1/images/e3/c3r1e3n47.tif</td>\n",
              "      <td>4</td>\n",
              "    </tr>\n",
              "  </tbody>\n",
              "</table>\n",
              "</div>\n",
              "      <button class=\"colab-df-convert\" onclick=\"convertToInteractive('df-6c0bd047-ff5d-47a1-b814-046f04d81782')\"\n",
              "              title=\"Convert this dataframe to an interactive table.\"\n",
              "              style=\"display:none;\">\n",
              "        \n",
              "  <svg xmlns=\"http://www.w3.org/2000/svg\" height=\"24px\"viewBox=\"0 0 24 24\"\n",
              "       width=\"24px\">\n",
              "    <path d=\"M0 0h24v24H0V0z\" fill=\"none\"/>\n",
              "    <path d=\"M18.56 5.44l.94 2.06.94-2.06 2.06-.94-2.06-.94-.94-2.06-.94 2.06-2.06.94zm-11 1L8.5 8.5l.94-2.06 2.06-.94-2.06-.94L8.5 2.5l-.94 2.06-2.06.94zm10 10l.94 2.06.94-2.06 2.06-.94-2.06-.94-.94-2.06-.94 2.06-2.06.94z\"/><path d=\"M17.41 7.96l-1.37-1.37c-.4-.4-.92-.59-1.43-.59-.52 0-1.04.2-1.43.59L10.3 9.45l-7.72 7.72c-.78.78-.78 2.05 0 2.83L4 21.41c.39.39.9.59 1.41.59.51 0 1.02-.2 1.41-.59l7.78-7.78 2.81-2.81c.8-.78.8-2.07 0-2.86zM5.41 20L4 18.59l7.72-7.72 1.47 1.35L5.41 20z\"/>\n",
              "  </svg>\n",
              "      </button>\n",
              "      \n",
              "  <style>\n",
              "    .colab-df-container {\n",
              "      display:flex;\n",
              "      flex-wrap:wrap;\n",
              "      gap: 12px;\n",
              "    }\n",
              "\n",
              "    .colab-df-convert {\n",
              "      background-color: #E8F0FE;\n",
              "      border: none;\n",
              "      border-radius: 50%;\n",
              "      cursor: pointer;\n",
              "      display: none;\n",
              "      fill: #1967D2;\n",
              "      height: 32px;\n",
              "      padding: 0 0 0 0;\n",
              "      width: 32px;\n",
              "    }\n",
              "\n",
              "    .colab-df-convert:hover {\n",
              "      background-color: #E2EBFA;\n",
              "      box-shadow: 0px 1px 2px rgba(60, 64, 67, 0.3), 0px 1px 3px 1px rgba(60, 64, 67, 0.15);\n",
              "      fill: #174EA6;\n",
              "    }\n",
              "\n",
              "    [theme=dark] .colab-df-convert {\n",
              "      background-color: #3B4455;\n",
              "      fill: #D2E3FC;\n",
              "    }\n",
              "\n",
              "    [theme=dark] .colab-df-convert:hover {\n",
              "      background-color: #434B5C;\n",
              "      box-shadow: 0px 1px 3px 1px rgba(0, 0, 0, 0.15);\n",
              "      filter: drop-shadow(0px 1px 2px rgba(0, 0, 0, 0.3));\n",
              "      fill: #FFFFFF;\n",
              "    }\n",
              "  </style>\n",
              "\n",
              "      <script>\n",
              "        const buttonEl =\n",
              "          document.querySelector('#df-6c0bd047-ff5d-47a1-b814-046f04d81782 button.colab-df-convert');\n",
              "        buttonEl.style.display =\n",
              "          google.colab.kernel.accessAllowed ? 'block' : 'none';\n",
              "\n",
              "        async function convertToInteractive(key) {\n",
              "          const element = document.querySelector('#df-6c0bd047-ff5d-47a1-b814-046f04d81782');\n",
              "          const dataTable =\n",
              "            await google.colab.kernel.invokeFunction('convertToInteractive',\n",
              "                                                     [key], {});\n",
              "          if (!dataTable) return;\n",
              "\n",
              "          const docLinkHtml = 'Like what you see? Visit the ' +\n",
              "            '<a target=\"_blank\" href=https://colab.research.google.com/notebooks/data_table.ipynb>data table notebook</a>'\n",
              "            + ' to learn more about interactive tables.';\n",
              "          element.innerHTML = '';\n",
              "          dataTable['output_type'] = 'display_data';\n",
              "          await google.colab.output.renderOutput(dataTable, element);\n",
              "          const docLink = document.createElement('div');\n",
              "          docLink.innerHTML = docLinkHtml;\n",
              "          element.appendChild(docLink);\n",
              "        }\n",
              "      </script>\n",
              "    </div>\n",
              "  </div>\n",
              "  "
            ]
          },
          "metadata": {},
          "execution_count": 8
        }
      ],
      "source": [
        "train_df.head()"
      ]
    },
    {
      "cell_type": "markdown",
      "source": [
        "We don't want to add unwanted relationsships between types and so we one-hot encoded the type ids"
      ],
      "metadata": {
        "id": "_rHEeofArilE"
      }
    },
    {
      "cell_type": "code",
      "source": [
        "from sklearn.preprocessing import OneHotEncoder\n",
        "\n",
        "encod = OneHotEncoder()\n",
        "\n",
        "encod.fit(train_df[['tipus']])\n",
        "patterns = encod.transform(train_df[['tipus']]).toarray()"
      ],
      "metadata": {
        "id": "yQl3TQru973k"
      },
      "execution_count": 9,
      "outputs": []
    },
    {
      "cell_type": "code",
      "execution_count": 10,
      "metadata": {
        "id": "09bTUdYakcMj"
      },
      "outputs": [],
      "source": [
        "train_df[['0', '1', '2', '3', '4', '5']] = patterns"
      ]
    },
    {
      "cell_type": "code",
      "source": [
        "train_df.head()"
      ],
      "metadata": {
        "colab": {
          "base_uri": "https://localhost:8080/",
          "height": 206
        },
        "id": "I_FacyRjCvcE",
        "outputId": "aca73e6c-47b3-4e9b-bf0f-eb21868ecedd"
      },
      "execution_count": 11,
      "outputs": [
        {
          "output_type": "execute_result",
          "data": {
            "text/plain": [
              "                                            path  tipus    0    1    2    3  \\\n",
              "0  badata/cd1/data/c3/r1/images/e3/c3r1e3n12.tif      4  0.0  0.0  0.0  0.0   \n",
              "1  badata/cd1/data/c3/r1/images/e3/c3r1e3n28.tif      4  0.0  0.0  0.0  0.0   \n",
              "2  badata/cd1/data/c3/r1/images/e3/c3r1e3n25.tif      4  0.0  0.0  0.0  0.0   \n",
              "3  badata/cd1/data/c3/r1/images/e3/c3r1e3n11.tif      4  0.0  0.0  0.0  0.0   \n",
              "4  badata/cd1/data/c3/r1/images/e3/c3r1e3n47.tif      4  0.0  0.0  0.0  0.0   \n",
              "\n",
              "     4    5  \n",
              "0  1.0  0.0  \n",
              "1  1.0  0.0  \n",
              "2  1.0  0.0  \n",
              "3  1.0  0.0  \n",
              "4  1.0  0.0  "
            ],
            "text/html": [
              "\n",
              "  <div id=\"df-94332a21-5531-4762-a646-9cb100902768\">\n",
              "    <div class=\"colab-df-container\">\n",
              "      <div>\n",
              "<style scoped>\n",
              "    .dataframe tbody tr th:only-of-type {\n",
              "        vertical-align: middle;\n",
              "    }\n",
              "\n",
              "    .dataframe tbody tr th {\n",
              "        vertical-align: top;\n",
              "    }\n",
              "\n",
              "    .dataframe thead th {\n",
              "        text-align: right;\n",
              "    }\n",
              "</style>\n",
              "<table border=\"1\" class=\"dataframe\">\n",
              "  <thead>\n",
              "    <tr style=\"text-align: right;\">\n",
              "      <th></th>\n",
              "      <th>path</th>\n",
              "      <th>tipus</th>\n",
              "      <th>0</th>\n",
              "      <th>1</th>\n",
              "      <th>2</th>\n",
              "      <th>3</th>\n",
              "      <th>4</th>\n",
              "      <th>5</th>\n",
              "    </tr>\n",
              "  </thead>\n",
              "  <tbody>\n",
              "    <tr>\n",
              "      <th>0</th>\n",
              "      <td>badata/cd1/data/c3/r1/images/e3/c3r1e3n12.tif</td>\n",
              "      <td>4</td>\n",
              "      <td>0.0</td>\n",
              "      <td>0.0</td>\n",
              "      <td>0.0</td>\n",
              "      <td>0.0</td>\n",
              "      <td>1.0</td>\n",
              "      <td>0.0</td>\n",
              "    </tr>\n",
              "    <tr>\n",
              "      <th>1</th>\n",
              "      <td>badata/cd1/data/c3/r1/images/e3/c3r1e3n28.tif</td>\n",
              "      <td>4</td>\n",
              "      <td>0.0</td>\n",
              "      <td>0.0</td>\n",
              "      <td>0.0</td>\n",
              "      <td>0.0</td>\n",
              "      <td>1.0</td>\n",
              "      <td>0.0</td>\n",
              "    </tr>\n",
              "    <tr>\n",
              "      <th>2</th>\n",
              "      <td>badata/cd1/data/c3/r1/images/e3/c3r1e3n25.tif</td>\n",
              "      <td>4</td>\n",
              "      <td>0.0</td>\n",
              "      <td>0.0</td>\n",
              "      <td>0.0</td>\n",
              "      <td>0.0</td>\n",
              "      <td>1.0</td>\n",
              "      <td>0.0</td>\n",
              "    </tr>\n",
              "    <tr>\n",
              "      <th>3</th>\n",
              "      <td>badata/cd1/data/c3/r1/images/e3/c3r1e3n11.tif</td>\n",
              "      <td>4</td>\n",
              "      <td>0.0</td>\n",
              "      <td>0.0</td>\n",
              "      <td>0.0</td>\n",
              "      <td>0.0</td>\n",
              "      <td>1.0</td>\n",
              "      <td>0.0</td>\n",
              "    </tr>\n",
              "    <tr>\n",
              "      <th>4</th>\n",
              "      <td>badata/cd1/data/c3/r1/images/e3/c3r1e3n47.tif</td>\n",
              "      <td>4</td>\n",
              "      <td>0.0</td>\n",
              "      <td>0.0</td>\n",
              "      <td>0.0</td>\n",
              "      <td>0.0</td>\n",
              "      <td>1.0</td>\n",
              "      <td>0.0</td>\n",
              "    </tr>\n",
              "  </tbody>\n",
              "</table>\n",
              "</div>\n",
              "      <button class=\"colab-df-convert\" onclick=\"convertToInteractive('df-94332a21-5531-4762-a646-9cb100902768')\"\n",
              "              title=\"Convert this dataframe to an interactive table.\"\n",
              "              style=\"display:none;\">\n",
              "        \n",
              "  <svg xmlns=\"http://www.w3.org/2000/svg\" height=\"24px\"viewBox=\"0 0 24 24\"\n",
              "       width=\"24px\">\n",
              "    <path d=\"M0 0h24v24H0V0z\" fill=\"none\"/>\n",
              "    <path d=\"M18.56 5.44l.94 2.06.94-2.06 2.06-.94-2.06-.94-.94-2.06-.94 2.06-2.06.94zm-11 1L8.5 8.5l.94-2.06 2.06-.94-2.06-.94L8.5 2.5l-.94 2.06-2.06.94zm10 10l.94 2.06.94-2.06 2.06-.94-2.06-.94-.94-2.06-.94 2.06-2.06.94z\"/><path d=\"M17.41 7.96l-1.37-1.37c-.4-.4-.92-.59-1.43-.59-.52 0-1.04.2-1.43.59L10.3 9.45l-7.72 7.72c-.78.78-.78 2.05 0 2.83L4 21.41c.39.39.9.59 1.41.59.51 0 1.02-.2 1.41-.59l7.78-7.78 2.81-2.81c.8-.78.8-2.07 0-2.86zM5.41 20L4 18.59l7.72-7.72 1.47 1.35L5.41 20z\"/>\n",
              "  </svg>\n",
              "      </button>\n",
              "      \n",
              "  <style>\n",
              "    .colab-df-container {\n",
              "      display:flex;\n",
              "      flex-wrap:wrap;\n",
              "      gap: 12px;\n",
              "    }\n",
              "\n",
              "    .colab-df-convert {\n",
              "      background-color: #E8F0FE;\n",
              "      border: none;\n",
              "      border-radius: 50%;\n",
              "      cursor: pointer;\n",
              "      display: none;\n",
              "      fill: #1967D2;\n",
              "      height: 32px;\n",
              "      padding: 0 0 0 0;\n",
              "      width: 32px;\n",
              "    }\n",
              "\n",
              "    .colab-df-convert:hover {\n",
              "      background-color: #E2EBFA;\n",
              "      box-shadow: 0px 1px 2px rgba(60, 64, 67, 0.3), 0px 1px 3px 1px rgba(60, 64, 67, 0.15);\n",
              "      fill: #174EA6;\n",
              "    }\n",
              "\n",
              "    [theme=dark] .colab-df-convert {\n",
              "      background-color: #3B4455;\n",
              "      fill: #D2E3FC;\n",
              "    }\n",
              "\n",
              "    [theme=dark] .colab-df-convert:hover {\n",
              "      background-color: #434B5C;\n",
              "      box-shadow: 0px 1px 3px 1px rgba(0, 0, 0, 0.15);\n",
              "      filter: drop-shadow(0px 1px 2px rgba(0, 0, 0, 0.3));\n",
              "      fill: #FFFFFF;\n",
              "    }\n",
              "  </style>\n",
              "\n",
              "      <script>\n",
              "        const buttonEl =\n",
              "          document.querySelector('#df-94332a21-5531-4762-a646-9cb100902768 button.colab-df-convert');\n",
              "        buttonEl.style.display =\n",
              "          google.colab.kernel.accessAllowed ? 'block' : 'none';\n",
              "\n",
              "        async function convertToInteractive(key) {\n",
              "          const element = document.querySelector('#df-94332a21-5531-4762-a646-9cb100902768');\n",
              "          const dataTable =\n",
              "            await google.colab.kernel.invokeFunction('convertToInteractive',\n",
              "                                                     [key], {});\n",
              "          if (!dataTable) return;\n",
              "\n",
              "          const docLinkHtml = 'Like what you see? Visit the ' +\n",
              "            '<a target=\"_blank\" href=https://colab.research.google.com/notebooks/data_table.ipynb>data table notebook</a>'\n",
              "            + ' to learn more about interactive tables.';\n",
              "          element.innerHTML = '';\n",
              "          dataTable['output_type'] = 'display_data';\n",
              "          await google.colab.output.renderOutput(dataTable, element);\n",
              "          const docLink = document.createElement('div');\n",
              "          docLink.innerHTML = docLinkHtml;\n",
              "          element.appendChild(docLink);\n",
              "        }\n",
              "      </script>\n",
              "    </div>\n",
              "  </div>\n",
              "  "
            ]
          },
          "metadata": {},
          "execution_count": 11
        }
      ]
    },
    {
      "cell_type": "markdown",
      "source": [
        "Getting the index patterns names"
      ],
      "metadata": {
        "id": "vYEvrwucr-qL"
      }
    },
    {
      "cell_type": "code",
      "source": [
        "index_patterns = train_df.columns[2:]"
      ],
      "metadata": {
        "id": "hYAPJcneCQGM"
      },
      "execution_count": 12,
      "outputs": []
    },
    {
      "cell_type": "markdown",
      "metadata": {
        "id": "Av41oP6dlSwl"
      },
      "source": [
        "## Model preprocessing"
      ]
    },
    {
      "cell_type": "code",
      "execution_count": 13,
      "metadata": {
        "id": "yX-O9A9qqyRq"
      },
      "outputs": [],
      "source": [
        "import cv2, os\n",
        "from tensorflow.keras import layers\n",
        "import matplotlib.pyplot as plt\n",
        "import tensorflow as tf"
      ]
    },
    {
      "cell_type": "markdown",
      "source": [
        "Creating a generator in order to consume less RAM.\n",
        "\n",
        " \n",
        "\n",
        "*   Before iterating we shuffle the dataframe so that the model don't get used to a single type.\n",
        "*   Replacing the path in order to get the image from our drive\n",
        "*   Reshaping the images to fit to the model training shape needs\n",
        "\n",
        "\n"
      ],
      "metadata": {
        "id": "RJ9MO2s3sFpx"
      }
    },
    {
      "cell_type": "code",
      "source": [
        "IMG_SIZE = 224\n",
        "images = []\n",
        "resize_and_rescale = tf.keras.Sequential([\n",
        "  layers.Resizing(IMG_SIZE, IMG_SIZE),\n",
        "  layers.Rescaling(1./255)\n",
        "])\n",
        "\n",
        "def get_images():\n",
        "  shffled_train_df = train_df.sample(frac=1)\n",
        "  for index, row in shffled_train_df.iterrows():\n",
        "    path = row.path\n",
        "    path = path.replace(\"badata/cd1/data/\", \"gdrive/MyDrive/HackEPS2022/data/lila/A1/\")\n",
        "    try:\n",
        "        img_arr = cv2.imread(path)\n",
        "        resized_arr = resize_and_rescale(img_arr) # Reshaping images to preferred size\n",
        "        yield tf.reshape(resized_arr, (1, 224,224,3)), tf.reshape(tf.convert_to_tensor(row[index_patterns], dtype=tf.float32), (1, 6))\n",
        "    except Exception as e:\n",
        "        pass"
      ],
      "metadata": {
        "id": "FxBmLV8_b1lz"
      },
      "execution_count": 14,
      "outputs": []
    },
    {
      "cell_type": "markdown",
      "source": [
        "Finally not used, but we created another generator that augment images doing transformations to them. We didn't implement this because then the randomness of each type is lost."
      ],
      "metadata": {
        "id": "9uPpbVd6s3Sq"
      }
    },
    {
      "cell_type": "code",
      "source": [
        "data_augmentation = tf.keras.Sequential([\n",
        "  layers.RandomFlip(\"horizontal_and_vertical\"),\n",
        "  layers.RandomRotation(0.2),\n",
        "])\n",
        "\n",
        "def augment_images():\n",
        "  for image, image_tag in get_images():\n",
        "    yield image, image_tag\n",
        "    for _ in range(5):\n",
        "      augmented_image = data_augmentation(image)\n",
        "      yield augmented_image, image_tag"
      ],
      "metadata": {
        "id": "WIsfeoqjYz-B"
      },
      "execution_count": 15,
      "outputs": []
    },
    {
      "cell_type": "markdown",
      "source": [
        "Creating the dataset from the generator"
      ],
      "metadata": {
        "id": "Zd3f6zmQtGz4"
      }
    },
    {
      "cell_type": "code",
      "source": [
        "dataset = tf.data.Dataset.from_generator(\n",
        "     get_images,\n",
        "     output_signature=(\n",
        "         tf.TensorSpec(shape=(1, 224,224,3), dtype=tf.float32),\n",
        "         tf.TensorSpec(shape=(1, 6), dtype=tf.float32)))"
      ],
      "metadata": {
        "id": "bSNPzaBhhgTx"
      },
      "execution_count": 16,
      "outputs": []
    },
    {
      "cell_type": "markdown",
      "source": [
        "Splitting the dataset into test_dataset and train_dataset, this is done by enumerating all the instances and then getting the ones that their index is divisor by 4."
      ],
      "metadata": {
        "id": "0AnEgeaqtMYW"
      }
    },
    {
      "cell_type": "code",
      "source": [
        "# Splitting the dataset for training and testing.\n",
        "def is_test(x, _):\n",
        "    return x % 4 == 0\n",
        "\n",
        "\n",
        "def is_train(x, y):\n",
        "    return not is_test(x, y)\n",
        "\n",
        "\n",
        "recover = lambda x, y: y\n",
        "\n",
        "# Split the dataset for training.\n",
        "test_dataset = dataset.enumerate() \\\n",
        "    .filter(is_test) \\\n",
        "    .map(recover)\n",
        "\n",
        "# Split the dataset for testing/validation.\n",
        "train_dataset = dataset.enumerate() \\\n",
        "    .filter(is_train) \\\n",
        "    .map(recover)"
      ],
      "metadata": {
        "id": "XCMkHIAujb-y"
      },
      "execution_count": 17,
      "outputs": []
    },
    {
      "cell_type": "markdown",
      "metadata": {
        "id": "iqTibjF-tHaj"
      },
      "source": [
        "## Modeling"
      ]
    },
    {
      "cell_type": "code",
      "execution_count": 18,
      "metadata": {
        "id": "U3p2ToTGtCoS"
      },
      "outputs": [],
      "source": [
        "import keras\n",
        "from keras.models import Sequential\n",
        "from keras.layers import Dense, Conv2D , MaxPool2D , Flatten , Dropout \n",
        "from keras.preprocessing.image import ImageDataGenerator\n",
        "from keras.optimizers import Adam\n",
        "\n",
        "from sklearn.metrics import classification_report,confusion_matrix\n",
        "\n",
        "import tensorflow as tf"
      ]
    },
    {
      "cell_type": "code",
      "execution_count": 19,
      "metadata": {
        "id": "a5u-rcAFtKky"
      },
      "outputs": [],
      "source": [
        "model = tf.keras.models.Sequential([\n",
        "# Note the input shape is the desired size of the image 200x200 with 3 bytes color\n",
        "# This is the first convolution\n",
        "tf.keras.layers.Conv2D(16, (3,3), activation='relu', input_shape=(224, 224, 3), padding=\"same\"),\n",
        "tf.keras.layers.MaxPooling2D(2, 2),\n",
        "# The second convolution\n",
        "tf.keras.layers.Conv2D(32, (3,3), activation='relu', padding=\"same\"),\n",
        "tf.keras.layers.MaxPooling2D(2,2),\n",
        "# The third convolution\n",
        "tf.keras.layers.Conv2D(64, (3,3), activation='relu', padding=\"same\"),\n",
        "tf.keras.layers.MaxPooling2D(2,2),\n",
        "# The fourth convolution\n",
        "tf.keras.layers.Conv2D(64, (3,3), activation='relu', padding=\"same\"),\n",
        "tf.keras.layers.MaxPooling2D(2,2),\n",
        "# # The fifth convolution\n",
        "tf.keras.layers.Conv2D(64, (3,3), activation='relu', padding=\"same\"),\n",
        "tf.keras.layers.MaxPooling2D(2,2),\n",
        "# Flatten the results to feed into a DNN\n",
        "tf.keras.layers.Flatten(),\n",
        "# 512 neuron hidden layer\n",
        "tf.keras.layers.Dense(512, activation='relu'),\n",
        "# Only 5 output neuron. It will contain a value from 0-1 where 0 is 'Estampado' and others are following the template 'Primer teixit' where Primer is i=1 until 5\n",
        "tf.keras.layers.Dense(6, activation='softmax')\n",
        "])"
      ]
    },
    {
      "cell_type": "code",
      "source": [
        "model.summary()"
      ],
      "metadata": {
        "id": "Up1SV1BxPxtM",
        "colab": {
          "base_uri": "https://localhost:8080/"
        },
        "outputId": "4000c98f-b094-4ec6-8ef9-df1be2d404a3"
      },
      "execution_count": 20,
      "outputs": [
        {
          "output_type": "stream",
          "name": "stdout",
          "text": [
            "Model: \"sequential_2\"\n",
            "_________________________________________________________________\n",
            " Layer (type)                Output Shape              Param #   \n",
            "=================================================================\n",
            " conv2d (Conv2D)             (None, 224, 224, 16)      448       \n",
            "                                                                 \n",
            " max_pooling2d (MaxPooling2D  (None, 112, 112, 16)     0         \n",
            " )                                                               \n",
            "                                                                 \n",
            " conv2d_1 (Conv2D)           (None, 112, 112, 32)      4640      \n",
            "                                                                 \n",
            " max_pooling2d_1 (MaxPooling  (None, 56, 56, 32)       0         \n",
            " 2D)                                                             \n",
            "                                                                 \n",
            " conv2d_2 (Conv2D)           (None, 56, 56, 64)        18496     \n",
            "                                                                 \n",
            " max_pooling2d_2 (MaxPooling  (None, 28, 28, 64)       0         \n",
            " 2D)                                                             \n",
            "                                                                 \n",
            " conv2d_3 (Conv2D)           (None, 28, 28, 64)        36928     \n",
            "                                                                 \n",
            " max_pooling2d_3 (MaxPooling  (None, 14, 14, 64)       0         \n",
            " 2D)                                                             \n",
            "                                                                 \n",
            " conv2d_4 (Conv2D)           (None, 14, 14, 64)        36928     \n",
            "                                                                 \n",
            " max_pooling2d_4 (MaxPooling  (None, 7, 7, 64)         0         \n",
            " 2D)                                                             \n",
            "                                                                 \n",
            " flatten (Flatten)           (None, 3136)              0         \n",
            "                                                                 \n",
            " dense (Dense)               (None, 512)               1606144   \n",
            "                                                                 \n",
            " dense_1 (Dense)             (None, 6)                 3078      \n",
            "                                                                 \n",
            "=================================================================\n",
            "Total params: 1,706,662\n",
            "Trainable params: 1,706,662\n",
            "Non-trainable params: 0\n",
            "_________________________________________________________________\n"
          ]
        }
      ]
    },
    {
      "cell_type": "code",
      "source": [
        "model2 = tf.keras.applications.resnet50.ResNet50(\n",
        "    include_top=False,\n",
        "    weights='imagenet',\n",
        "    input_tensor=None,\n",
        "    input_shape=(224, 224, 3),\n",
        "    pooling=None,\n",
        "    classes=6,\n",
        ")"
      ],
      "metadata": {
        "id": "OI2AJIUO3GvD",
        "colab": {
          "base_uri": "https://localhost:8080/"
        },
        "outputId": "90c0c5ab-127a-4b9d-b26f-b98dc55852b8"
      },
      "execution_count": 21,
      "outputs": [
        {
          "output_type": "stream",
          "name": "stdout",
          "text": [
            "Downloading data from https://storage.googleapis.com/tensorflow/keras-applications/resnet/resnet50_weights_tf_dim_ordering_tf_kernels_notop.h5\n",
            "94765736/94765736 [==============================] - 0s 0us/step\n"
          ]
        }
      ]
    },
    {
      "cell_type": "code",
      "execution_count": 22,
      "metadata": {
        "id": "r8CT8zk0tQ_d",
        "colab": {
          "base_uri": "https://localhost:8080/"
        },
        "outputId": "60b30bc6-1314-432f-d7ac-88b14193b596"
      },
      "outputs": [
        {
          "output_type": "stream",
          "name": "stderr",
          "text": [
            "/usr/local/lib/python3.7/dist-packages/keras/optimizers/optimizer_v2/adam.py:110: UserWarning: The `lr` argument is deprecated, use `learning_rate` instead.\n",
            "  super(Adam, self).__init__(name, **kwargs)\n"
          ]
        }
      ],
      "source": [
        "opt = Adam(lr=0.000001)\n",
        "model.compile(optimizer = opt , loss='categorical_crossentropy', metrics = ['accuracy'])"
      ]
    },
    {
      "cell_type": "markdown",
      "source": [
        "# Training the model"
      ],
      "metadata": {
        "id": "lJ_zQbT-t2pK"
      }
    },
    {
      "cell_type": "code",
      "execution_count": 24,
      "metadata": {
        "colab": {
          "base_uri": "https://localhost:8080/"
        },
        "id": "90cx0oZstXyV",
        "outputId": "50723d0a-2ff8-4344-8964-658f6364e8ca"
      },
      "outputs": [
        {
          "output_type": "stream",
          "name": "stdout",
          "text": [
            "Epoch 1/7\n",
            "    707/Unknown - 322s 455ms/step - loss: 1.7482 - accuracy: 0.2687"
          ]
        },
        {
          "output_type": "stream",
          "name": "stderr",
          "text": [
            "WARNING:tensorflow:Layers in a Sequential model should only have a single input tensor. Received: inputs=None. Consider rewriting this model with the Functional API.\n"
          ]
        },
        {
          "output_type": "stream",
          "name": "stdout",
          "text": [
            "    731/Unknown - 332s 453ms/step - loss: 1.7485 - accuracy: 0.2654"
          ]
        },
        {
          "output_type": "stream",
          "name": "stderr",
          "text": [
            "WARNING:tensorflow:Layers in a Sequential model should only have a single input tensor. Received: inputs=None. Consider rewriting this model with the Functional API.\n"
          ]
        },
        {
          "output_type": "stream",
          "name": "stdout",
          "text": [
            "   1150/Unknown - 514s 447ms/step - loss: 1.7417 - accuracy: 0.2478"
          ]
        },
        {
          "output_type": "stream",
          "name": "stderr",
          "text": [
            "WARNING:tensorflow:Layers in a Sequential model should only have a single input tensor. Received: inputs=None. Consider rewriting this model with the Functional API.\n"
          ]
        },
        {
          "output_type": "stream",
          "name": "stdout",
          "text": [
            "   1418/Unknown - 630s 444ms/step - loss: 1.7355 - accuracy: 0.2645"
          ]
        },
        {
          "output_type": "stream",
          "name": "stderr",
          "text": [
            "WARNING:tensorflow:Layers in a Sequential model should only have a single input tensor. Received: inputs=None. Consider rewriting this model with the Functional API.\n"
          ]
        },
        {
          "output_type": "stream",
          "name": "stdout",
          "text": [
            "   1654/Unknown - 735s 444ms/step - loss: 1.7275 - accuracy: 0.2769"
          ]
        },
        {
          "output_type": "stream",
          "name": "stderr",
          "text": [
            "WARNING:tensorflow:Layers in a Sequential model should only have a single input tensor. Received: inputs=None. Consider rewriting this model with the Functional API.\n"
          ]
        },
        {
          "output_type": "stream",
          "name": "stdout",
          "text": [
            "   2370/Unknown - 1037s 438ms/step - loss: 1.7184 - accuracy: 0.3068"
          ]
        },
        {
          "output_type": "stream",
          "name": "stderr",
          "text": [
            "WARNING:tensorflow:Layers in a Sequential model should only have a single input tensor. Received: inputs=None. Consider rewriting this model with the Functional API.\n"
          ]
        },
        {
          "output_type": "stream",
          "name": "stdout",
          "text": [
            "   2403/Unknown - 1051s 437ms/step - loss: 1.7183 - accuracy: 0.3075"
          ]
        },
        {
          "output_type": "stream",
          "name": "stderr",
          "text": [
            "WARNING:tensorflow:Layers in a Sequential model should only have a single input tensor. Received: inputs=None. Consider rewriting this model with the Functional API.\n",
            "WARNING:tensorflow:Layers in a Sequential model should only have a single input tensor. Received: inputs=None. Consider rewriting this model with the Functional API.\n",
            "WARNING:tensorflow:Layers in a Sequential model should only have a single input tensor. Received: inputs=None. Consider rewriting this model with the Functional API.\n",
            "WARNING:tensorflow:Layers in a Sequential model should only have a single input tensor. Received: inputs=None. Consider rewriting this model with the Functional API.\n",
            "WARNING:tensorflow:Layers in a Sequential model should only have a single input tensor. Received: inputs=None. Consider rewriting this model with the Functional API.\n",
            "WARNING:tensorflow:Layers in a Sequential model should only have a single input tensor. Received: inputs=None. Consider rewriting this model with the Functional API.\n"
          ]
        },
        {
          "output_type": "stream",
          "name": "stdout",
          "text": [
            "\b\b\b\b\b\b\b\b\b\b\b\b\b\b\b\b\b\b\b\b\b\b\b\b\b\b\b\b\b\b\b\b\b\b\b\b\b\b\b\b\b\b\b\b\b\b\b\b\b\b\b\b\b\b\b\b\b\b\b\b\b\b\b\b\b\b\b\b\r2403/2403 [==============================] - 1095s 456ms/step - loss: 1.7183 - accuracy: 0.3075 - val_loss: 1.6558 - val_accuracy: 0.4950\n",
            "Epoch 2/7\n",
            " 396/2403 [===>..........................] - ETA: 1:47 - loss: 1.6362 - accuracy: 0.4924"
          ]
        },
        {
          "output_type": "stream",
          "name": "stderr",
          "text": [
            "WARNING:tensorflow:Layers in a Sequential model should only have a single input tensor. Received: inputs=None. Consider rewriting this model with the Functional API.\n"
          ]
        },
        {
          "output_type": "stream",
          "name": "stdout",
          "text": [
            " 626/2403 [======>.......................] - ETA: 1:35 - loss: 1.6308 - accuracy: 0.4952"
          ]
        },
        {
          "output_type": "stream",
          "name": "stderr",
          "text": [
            "WARNING:tensorflow:Layers in a Sequential model should only have a single input tensor. Received: inputs=None. Consider rewriting this model with the Functional API.\n"
          ]
        },
        {
          "output_type": "stream",
          "name": "stdout",
          "text": [
            " 658/2403 [=======>......................] - ETA: 1:33 - loss: 1.6240 - accuracy: 0.5046"
          ]
        },
        {
          "output_type": "stream",
          "name": "stderr",
          "text": [
            "WARNING:tensorflow:Layers in a Sequential model should only have a single input tensor. Received: inputs=None. Consider rewriting this model with the Functional API.\n"
          ]
        },
        {
          "output_type": "stream",
          "name": "stdout",
          "text": [
            "1466/2403 [=================>............] - ETA: 50s - loss: 1.5942 - accuracy: 0.5123"
          ]
        },
        {
          "output_type": "stream",
          "name": "stderr",
          "text": [
            "WARNING:tensorflow:Layers in a Sequential model should only have a single input tensor. Received: inputs=None. Consider rewriting this model with the Functional API.\n"
          ]
        },
        {
          "output_type": "stream",
          "name": "stdout",
          "text": [
            "2014/2403 [========================>.....] - ETA: 20s - loss: 1.5852 - accuracy: 0.5040"
          ]
        },
        {
          "output_type": "stream",
          "name": "stderr",
          "text": [
            "WARNING:tensorflow:Layers in a Sequential model should only have a single input tensor. Received: inputs=None. Consider rewriting this model with the Functional API.\n"
          ]
        },
        {
          "output_type": "stream",
          "name": "stdout",
          "text": [
            "2208/2403 [==========================>...] - ETA: 10s - loss: 1.5847 - accuracy: 0.4977"
          ]
        },
        {
          "output_type": "stream",
          "name": "stderr",
          "text": [
            "WARNING:tensorflow:Layers in a Sequential model should only have a single input tensor. Received: inputs=None. Consider rewriting this model with the Functional API.\n"
          ]
        },
        {
          "output_type": "stream",
          "name": "stdout",
          "text": [
            "2402/2403 [============================>.] - ETA: 0s - loss: 1.5786 - accuracy: 0.4992"
          ]
        },
        {
          "output_type": "stream",
          "name": "stderr",
          "text": [
            "WARNING:tensorflow:Layers in a Sequential model should only have a single input tensor. Received: inputs=None. Consider rewriting this model with the Functional API.\n",
            "WARNING:tensorflow:Layers in a Sequential model should only have a single input tensor. Received: inputs=None. Consider rewriting this model with the Functional API.\n",
            "WARNING:tensorflow:Layers in a Sequential model should only have a single input tensor. Received: inputs=None. Consider rewriting this model with the Functional API.\n",
            "WARNING:tensorflow:Layers in a Sequential model should only have a single input tensor. Received: inputs=None. Consider rewriting this model with the Functional API.\n",
            "WARNING:tensorflow:Layers in a Sequential model should only have a single input tensor. Received: inputs=None. Consider rewriting this model with the Functional API.\n",
            "WARNING:tensorflow:Layers in a Sequential model should only have a single input tensor. Received: inputs=None. Consider rewriting this model with the Functional API.\n"
          ]
        },
        {
          "output_type": "stream",
          "name": "stdout",
          "text": [
            "\b\b\b\b\b\b\b\b\b\b\b\b\b\b\b\b\b\b\b\b\b\b\b\b\b\b\b\b\b\b\b\b\b\b\b\b\b\b\b\b\b\b\b\b\b\b\b\b\b\b\b\b\b\b\b\b\b\b\b\b\b\b\b\b\b\b\b\b\b\b\b\b\b\b\b\b\b\b\b\b\b\b\b\b\b\b\r2403/2403 [==============================] - 171s 71ms/step - loss: 1.5785 - accuracy: 0.4994 - val_loss: 1.5018 - val_accuracy: 0.4875\n",
            "Epoch 3/7\n",
            "   7/2403 [..............................] - ETA: 2:13 - loss: 1.3445 - accuracy: 0.5714"
          ]
        },
        {
          "output_type": "stream",
          "name": "stderr",
          "text": [
            "WARNING:tensorflow:Layers in a Sequential model should only have a single input tensor. Received: inputs=None. Consider rewriting this model with the Functional API.\n"
          ]
        },
        {
          "output_type": "stream",
          "name": "stdout",
          "text": [
            " 127/2403 [>.............................] - ETA: 2:03 - loss: 1.4486 - accuracy: 0.5354"
          ]
        },
        {
          "output_type": "stream",
          "name": "stderr",
          "text": [
            "WARNING:tensorflow:Layers in a Sequential model should only have a single input tensor. Received: inputs=None. Consider rewriting this model with the Functional API.\n"
          ]
        },
        {
          "output_type": "stream",
          "name": "stdout",
          "text": [
            " 431/2403 [====>.........................] - ETA: 1:46 - loss: 1.4803 - accuracy: 0.4872"
          ]
        },
        {
          "output_type": "stream",
          "name": "stderr",
          "text": [
            "WARNING:tensorflow:Layers in a Sequential model should only have a single input tensor. Received: inputs=None. Consider rewriting this model with the Functional API.\n"
          ]
        },
        {
          "output_type": "stream",
          "name": "stdout",
          "text": [
            " 469/2403 [====>.........................] - ETA: 1:44 - loss: 1.4878 - accuracy: 0.4797"
          ]
        },
        {
          "output_type": "stream",
          "name": "stderr",
          "text": [
            "WARNING:tensorflow:Layers in a Sequential model should only have a single input tensor. Received: inputs=None. Consider rewriting this model with the Functional API.\n"
          ]
        },
        {
          "output_type": "stream",
          "name": "stdout",
          "text": [
            " 546/2403 [=====>........................] - ETA: 1:40 - loss: 1.4765 - accuracy: 0.4853"
          ]
        },
        {
          "output_type": "stream",
          "name": "stderr",
          "text": [
            "WARNING:tensorflow:Layers in a Sequential model should only have a single input tensor. Received: inputs=None. Consider rewriting this model with the Functional API.\n"
          ]
        },
        {
          "output_type": "stream",
          "name": "stdout",
          "text": [
            "1321/2403 [===============>..............] - ETA: 58s - loss: 1.4397 - accuracy: 0.4966"
          ]
        },
        {
          "output_type": "stream",
          "name": "stderr",
          "text": [
            "WARNING:tensorflow:Layers in a Sequential model should only have a single input tensor. Received: inputs=None. Consider rewriting this model with the Functional API.\n"
          ]
        },
        {
          "output_type": "stream",
          "name": "stdout",
          "text": [
            "2402/2403 [============================>.] - ETA: 0s - loss: 1.3854 - accuracy: 0.4988"
          ]
        },
        {
          "output_type": "stream",
          "name": "stderr",
          "text": [
            "WARNING:tensorflow:Layers in a Sequential model should only have a single input tensor. Received: inputs=None. Consider rewriting this model with the Functional API.\n",
            "WARNING:tensorflow:Layers in a Sequential model should only have a single input tensor. Received: inputs=None. Consider rewriting this model with the Functional API.\n",
            "WARNING:tensorflow:Layers in a Sequential model should only have a single input tensor. Received: inputs=None. Consider rewriting this model with the Functional API.\n",
            "WARNING:tensorflow:Layers in a Sequential model should only have a single input tensor. Received: inputs=None. Consider rewriting this model with the Functional API.\n",
            "WARNING:tensorflow:Layers in a Sequential model should only have a single input tensor. Received: inputs=None. Consider rewriting this model with the Functional API.\n",
            "WARNING:tensorflow:Layers in a Sequential model should only have a single input tensor. Received: inputs=None. Consider rewriting this model with the Functional API.\n"
          ]
        },
        {
          "output_type": "stream",
          "name": "stdout",
          "text": [
            "\b\b\b\b\b\b\b\b\b\b\b\b\b\b\b\b\b\b\b\b\b\b\b\b\b\b\b\b\b\b\b\b\b\b\b\b\b\b\b\b\b\b\b\b\b\b\b\b\b\b\b\b\b\b\b\b\b\b\b\b\b\b\b\b\b\b\b\b\b\b\b\b\b\b\b\b\b\b\b\b\b\b\b\b\b\b\r2403/2403 [==============================] - 173s 72ms/step - loss: 1.3852 - accuracy: 0.4990 - val_loss: 1.2640 - val_accuracy: 0.5100\n",
            "Epoch 4/7\n",
            " 184/2403 [=>............................] - ETA: 1:59 - loss: 1.3470 - accuracy: 0.4185"
          ]
        },
        {
          "output_type": "stream",
          "name": "stderr",
          "text": [
            "WARNING:tensorflow:Layers in a Sequential model should only have a single input tensor. Received: inputs=None. Consider rewriting this model with the Functional API.\n"
          ]
        },
        {
          "output_type": "stream",
          "name": "stdout",
          "text": [
            " 400/2403 [===>..........................] - ETA: 1:49 - loss: 1.2818 - accuracy: 0.4700"
          ]
        },
        {
          "output_type": "stream",
          "name": "stderr",
          "text": [
            "WARNING:tensorflow:Layers in a Sequential model should only have a single input tensor. Received: inputs=None. Consider rewriting this model with the Functional API.\n"
          ]
        },
        {
          "output_type": "stream",
          "name": "stdout",
          "text": [
            " 646/2403 [=======>......................] - ETA: 1:40 - loss: 1.2543 - accuracy: 0.4907"
          ]
        },
        {
          "output_type": "stream",
          "name": "stderr",
          "text": [
            "WARNING:tensorflow:Layers in a Sequential model should only have a single input tensor. Received: inputs=None. Consider rewriting this model with the Functional API.\n"
          ]
        },
        {
          "output_type": "stream",
          "name": "stdout",
          "text": [
            " 798/2403 [========>.....................] - ETA: 1:30 - loss: 1.2479 - accuracy: 0.4887"
          ]
        },
        {
          "output_type": "stream",
          "name": "stderr",
          "text": [
            "WARNING:tensorflow:Layers in a Sequential model should only have a single input tensor. Received: inputs=None. Consider rewriting this model with the Functional API.\n"
          ]
        },
        {
          "output_type": "stream",
          "name": "stdout",
          "text": [
            "1260/2403 [==============>...............] - ETA: 1:04 - loss: 1.2322 - accuracy: 0.4849"
          ]
        },
        {
          "output_type": "stream",
          "name": "stderr",
          "text": [
            "WARNING:tensorflow:Layers in a Sequential model should only have a single input tensor. Received: inputs=None. Consider rewriting this model with the Functional API.\n"
          ]
        },
        {
          "output_type": "stream",
          "name": "stdout",
          "text": [
            "1306/2403 [===============>..............] - ETA: 1:01 - loss: 1.2275 - accuracy: 0.4885"
          ]
        },
        {
          "output_type": "stream",
          "name": "stderr",
          "text": [
            "WARNING:tensorflow:Layers in a Sequential model should only have a single input tensor. Received: inputs=None. Consider rewriting this model with the Functional API.\n"
          ]
        },
        {
          "output_type": "stream",
          "name": "stdout",
          "text": [
            "2402/2403 [============================>.] - ETA: 0s - loss: 1.1734 - accuracy: 0.4913"
          ]
        },
        {
          "output_type": "stream",
          "name": "stderr",
          "text": [
            "WARNING:tensorflow:Layers in a Sequential model should only have a single input tensor. Received: inputs=None. Consider rewriting this model with the Functional API.\n",
            "WARNING:tensorflow:Layers in a Sequential model should only have a single input tensor. Received: inputs=None. Consider rewriting this model with the Functional API.\n",
            "WARNING:tensorflow:Layers in a Sequential model should only have a single input tensor. Received: inputs=None. Consider rewriting this model with the Functional API.\n",
            "WARNING:tensorflow:Layers in a Sequential model should only have a single input tensor. Received: inputs=None. Consider rewriting this model with the Functional API.\n",
            "WARNING:tensorflow:Layers in a Sequential model should only have a single input tensor. Received: inputs=None. Consider rewriting this model with the Functional API.\n",
            "WARNING:tensorflow:Layers in a Sequential model should only have a single input tensor. Received: inputs=None. Consider rewriting this model with the Functional API.\n"
          ]
        },
        {
          "output_type": "stream",
          "name": "stdout",
          "text": [
            "\b\b\b\b\b\b\b\b\b\b\b\b\b\b\b\b\b\b\b\b\b\b\b\b\b\b\b\b\b\b\b\b\b\b\b\b\b\b\b\b\b\b\b\b\b\b\b\b\b\b\b\b\b\b\b\b\b\b\b\b\b\b\b\b\b\b\b\b\b\b\b\b\b\b\b\b\b\b\b\b\b\b\b\b\b\b\r2403/2403 [==============================] - 177s 74ms/step - loss: 1.1732 - accuracy: 0.4915 - val_loss: 1.0527 - val_accuracy: 0.5661\n",
            "Epoch 5/7\n",
            "   1/2403 [..............................] - ETA: 3:49 - loss: 0.6268 - accuracy: 1.0000"
          ]
        },
        {
          "output_type": "stream",
          "name": "stderr",
          "text": [
            "WARNING:tensorflow:Layers in a Sequential model should only have a single input tensor. Received: inputs=None. Consider rewriting this model with the Functional API.\n"
          ]
        },
        {
          "output_type": "stream",
          "name": "stdout",
          "text": [
            " 214/2403 [=>............................] - ETA: 2:03 - loss: 1.0538 - accuracy: 0.5607"
          ]
        },
        {
          "output_type": "stream",
          "name": "stderr",
          "text": [
            "WARNING:tensorflow:Layers in a Sequential model should only have a single input tensor. Received: inputs=None. Consider rewriting this model with the Functional API.\n"
          ]
        },
        {
          "output_type": "stream",
          "name": "stdout",
          "text": [
            " 826/2403 [=========>....................] - ETA: 1:28 - loss: 0.9905 - accuracy: 0.5823"
          ]
        },
        {
          "output_type": "stream",
          "name": "stderr",
          "text": [
            "WARNING:tensorflow:Layers in a Sequential model should only have a single input tensor. Received: inputs=None. Consider rewriting this model with the Functional API.\n"
          ]
        },
        {
          "output_type": "stream",
          "name": "stdout",
          "text": [
            "1142/2403 [=============>................] - ETA: 1:11 - loss: 0.9838 - accuracy: 0.5849"
          ]
        },
        {
          "output_type": "stream",
          "name": "stderr",
          "text": [
            "WARNING:tensorflow:Layers in a Sequential model should only have a single input tensor. Received: inputs=None. Consider rewriting this model with the Functional API.\n"
          ]
        },
        {
          "output_type": "stream",
          "name": "stdout",
          "text": [
            "2114/2403 [=========================>....] - ETA: 16s - loss: 0.9628 - accuracy: 0.6339"
          ]
        },
        {
          "output_type": "stream",
          "name": "stderr",
          "text": [
            "WARNING:tensorflow:Layers in a Sequential model should only have a single input tensor. Received: inputs=None. Consider rewriting this model with the Functional API.\n"
          ]
        },
        {
          "output_type": "stream",
          "name": "stdout",
          "text": [
            "2153/2403 [=========================>....] - ETA: 14s - loss: 0.9626 - accuracy: 0.6363"
          ]
        },
        {
          "output_type": "stream",
          "name": "stderr",
          "text": [
            "WARNING:tensorflow:Layers in a Sequential model should only have a single input tensor. Received: inputs=None. Consider rewriting this model with the Functional API.\n"
          ]
        },
        {
          "output_type": "stream",
          "name": "stdout",
          "text": [
            "2402/2403 [============================>.] - ETA: 0s - loss: 0.9583 - accuracy: 0.6420"
          ]
        },
        {
          "output_type": "stream",
          "name": "stderr",
          "text": [
            "WARNING:tensorflow:Layers in a Sequential model should only have a single input tensor. Received: inputs=None. Consider rewriting this model with the Functional API.\n",
            "WARNING:tensorflow:Layers in a Sequential model should only have a single input tensor. Received: inputs=None. Consider rewriting this model with the Functional API.\n",
            "WARNING:tensorflow:Layers in a Sequential model should only have a single input tensor. Received: inputs=None. Consider rewriting this model with the Functional API.\n",
            "WARNING:tensorflow:Layers in a Sequential model should only have a single input tensor. Received: inputs=None. Consider rewriting this model with the Functional API.\n",
            "WARNING:tensorflow:Layers in a Sequential model should only have a single input tensor. Received: inputs=None. Consider rewriting this model with the Functional API.\n",
            "WARNING:tensorflow:Layers in a Sequential model should only have a single input tensor. Received: inputs=None. Consider rewriting this model with the Functional API.\n"
          ]
        },
        {
          "output_type": "stream",
          "name": "stdout",
          "text": [
            "\b\b\b\b\b\b\b\b\b\b\b\b\b\b\b\b\b\b\b\b\b\b\b\b\b\b\b\b\b\b\b\b\b\b\b\b\b\b\b\b\b\b\b\b\b\b\b\b\b\b\b\b\b\b\b\b\b\b\b\b\b\b\b\b\b\b\b\b\b\b\b\b\b\b\b\b\b\b\b\b\b\b\b\b\b\b\r2403/2403 [==============================] - 179s 74ms/step - loss: 0.9585 - accuracy: 0.6417 - val_loss: 0.8684 - val_accuracy: 0.7082\n",
            "Epoch 6/7\n",
            " 994/2403 [===========>..................] - ETA: 1:19 - loss: 0.8556 - accuracy: 0.7465"
          ]
        },
        {
          "output_type": "stream",
          "name": "stderr",
          "text": [
            "WARNING:tensorflow:Layers in a Sequential model should only have a single input tensor. Received: inputs=None. Consider rewriting this model with the Functional API.\n"
          ]
        },
        {
          "output_type": "stream",
          "name": "stdout",
          "text": [
            "1003/2403 [===========>..................] - ETA: 1:19 - loss: 0.8548 - accuracy: 0.7488"
          ]
        },
        {
          "output_type": "stream",
          "name": "stderr",
          "text": [
            "WARNING:tensorflow:Layers in a Sequential model should only have a single input tensor. Received: inputs=None. Consider rewriting this model with the Functional API.\n"
          ]
        },
        {
          "output_type": "stream",
          "name": "stdout",
          "text": [
            "1432/2403 [================>.............] - ETA: 55s - loss: 0.8421 - accuracy: 0.7451"
          ]
        },
        {
          "output_type": "stream",
          "name": "stderr",
          "text": [
            "WARNING:tensorflow:Layers in a Sequential model should only have a single input tensor. Received: inputs=None. Consider rewriting this model with the Functional API.\n"
          ]
        },
        {
          "output_type": "stream",
          "name": "stdout",
          "text": [
            "1472/2403 [=================>............] - ETA: 52s - loss: 0.8383 - accuracy: 0.7480"
          ]
        },
        {
          "output_type": "stream",
          "name": "stderr",
          "text": [
            "WARNING:tensorflow:Layers in a Sequential model should only have a single input tensor. Received: inputs=None. Consider rewriting this model with the Functional API.\n"
          ]
        },
        {
          "output_type": "stream",
          "name": "stdout",
          "text": [
            "1483/2403 [=================>............] - ETA: 52s - loss: 0.8367 - accuracy: 0.7471"
          ]
        },
        {
          "output_type": "stream",
          "name": "stderr",
          "text": [
            "WARNING:tensorflow:Layers in a Sequential model should only have a single input tensor. Received: inputs=None. Consider rewriting this model with the Functional API.\n"
          ]
        },
        {
          "output_type": "stream",
          "name": "stdout",
          "text": [
            "1678/2403 [===================>..........] - ETA: 41s - loss: 0.8301 - accuracy: 0.7443"
          ]
        },
        {
          "output_type": "stream",
          "name": "stderr",
          "text": [
            "WARNING:tensorflow:Layers in a Sequential model should only have a single input tensor. Received: inputs=None. Consider rewriting this model with the Functional API.\n"
          ]
        },
        {
          "output_type": "stream",
          "name": "stdout",
          "text": [
            "2402/2403 [============================>.] - ETA: 0s - loss: 0.8095 - accuracy: 0.7373"
          ]
        },
        {
          "output_type": "stream",
          "name": "stderr",
          "text": [
            "WARNING:tensorflow:Layers in a Sequential model should only have a single input tensor. Received: inputs=None. Consider rewriting this model with the Functional API.\n",
            "WARNING:tensorflow:Layers in a Sequential model should only have a single input tensor. Received: inputs=None. Consider rewriting this model with the Functional API.\n",
            "WARNING:tensorflow:Layers in a Sequential model should only have a single input tensor. Received: inputs=None. Consider rewriting this model with the Functional API.\n",
            "WARNING:tensorflow:Layers in a Sequential model should only have a single input tensor. Received: inputs=None. Consider rewriting this model with the Functional API.\n",
            "WARNING:tensorflow:Layers in a Sequential model should only have a single input tensor. Received: inputs=None. Consider rewriting this model with the Functional API.\n",
            "WARNING:tensorflow:Layers in a Sequential model should only have a single input tensor. Received: inputs=None. Consider rewriting this model with the Functional API.\n"
          ]
        },
        {
          "output_type": "stream",
          "name": "stdout",
          "text": [
            "\b\b\b\b\b\b\b\b\b\b\b\b\b\b\b\b\b\b\b\b\b\b\b\b\b\b\b\b\b\b\b\b\b\b\b\b\b\b\b\b\b\b\b\b\b\b\b\b\b\b\b\b\b\b\b\b\b\b\b\b\b\b\b\b\b\b\b\b\b\b\b\b\b\b\b\b\b\b\b\b\b\b\b\b\b\b\r2403/2403 [==============================] - 179s 74ms/step - loss: 0.8092 - accuracy: 0.7374 - val_loss: 0.7496 - val_accuracy: 0.7170\n",
            "Epoch 7/7\n",
            " 352/2403 [===>..........................] - ETA: 1:58 - loss: 0.7193 - accuracy: 0.7614"
          ]
        },
        {
          "output_type": "stream",
          "name": "stderr",
          "text": [
            "WARNING:tensorflow:Layers in a Sequential model should only have a single input tensor. Received: inputs=None. Consider rewriting this model with the Functional API.\n"
          ]
        },
        {
          "output_type": "stream",
          "name": "stdout",
          "text": [
            "1186/2403 [=============>................] - ETA: 1:12 - loss: 0.7365 - accuracy: 0.7437"
          ]
        },
        {
          "output_type": "stream",
          "name": "stderr",
          "text": [
            "WARNING:tensorflow:Layers in a Sequential model should only have a single input tensor. Received: inputs=None. Consider rewriting this model with the Functional API.\n"
          ]
        },
        {
          "output_type": "stream",
          "name": "stdout",
          "text": [
            "1237/2403 [==============>...............] - ETA: 1:09 - loss: 0.7355 - accuracy: 0.7437"
          ]
        },
        {
          "output_type": "stream",
          "name": "stderr",
          "text": [
            "WARNING:tensorflow:Layers in a Sequential model should only have a single input tensor. Received: inputs=None. Consider rewriting this model with the Functional API.\n"
          ]
        },
        {
          "output_type": "stream",
          "name": "stdout",
          "text": [
            "1388/2403 [================>.............] - ETA: 59s - loss: 0.7305 - accuracy: 0.7414 "
          ]
        },
        {
          "output_type": "stream",
          "name": "stderr",
          "text": [
            "WARNING:tensorflow:Layers in a Sequential model should only have a single input tensor. Received: inputs=None. Consider rewriting this model with the Functional API.\n"
          ]
        },
        {
          "output_type": "stream",
          "name": "stdout",
          "text": [
            "2132/2403 [=========================>....] - ETA: 15s - loss: 0.7039 - accuracy: 0.7486"
          ]
        },
        {
          "output_type": "stream",
          "name": "stderr",
          "text": [
            "WARNING:tensorflow:Layers in a Sequential model should only have a single input tensor. Received: inputs=None. Consider rewriting this model with the Functional API.\n"
          ]
        },
        {
          "output_type": "stream",
          "name": "stdout",
          "text": [
            "2160/2403 [=========================>....] - ETA: 14s - loss: 0.7051 - accuracy: 0.7491"
          ]
        },
        {
          "output_type": "stream",
          "name": "stderr",
          "text": [
            "WARNING:tensorflow:Layers in a Sequential model should only have a single input tensor. Received: inputs=None. Consider rewriting this model with the Functional API.\n"
          ]
        },
        {
          "output_type": "stream",
          "name": "stdout",
          "text": [
            "2402/2403 [============================>.] - ETA: 0s - loss: 0.7002 - accuracy: 0.7465"
          ]
        },
        {
          "output_type": "stream",
          "name": "stderr",
          "text": [
            "WARNING:tensorflow:Layers in a Sequential model should only have a single input tensor. Received: inputs=None. Consider rewriting this model with the Functional API.\n",
            "WARNING:tensorflow:Layers in a Sequential model should only have a single input tensor. Received: inputs=None. Consider rewriting this model with the Functional API.\n",
            "WARNING:tensorflow:Layers in a Sequential model should only have a single input tensor. Received: inputs=None. Consider rewriting this model with the Functional API.\n",
            "WARNING:tensorflow:Layers in a Sequential model should only have a single input tensor. Received: inputs=None. Consider rewriting this model with the Functional API.\n",
            "WARNING:tensorflow:Layers in a Sequential model should only have a single input tensor. Received: inputs=None. Consider rewriting this model with the Functional API.\n",
            "WARNING:tensorflow:Layers in a Sequential model should only have a single input tensor. Received: inputs=None. Consider rewriting this model with the Functional API.\n"
          ]
        },
        {
          "output_type": "stream",
          "name": "stdout",
          "text": [
            "\b\b\b\b\b\b\b\b\b\b\b\b\b\b\b\b\b\b\b\b\b\b\b\b\b\b\b\b\b\b\b\b\b\b\b\b\b\b\b\b\b\b\b\b\b\b\b\b\b\b\b\b\b\b\b\b\b\b\b\b\b\b\b\b\b\b\b\b\b\b\b\b\b\b\b\b\b\b\b\b\b\b\b\b\b\b\r2403/2403 [==============================] - 183s 76ms/step - loss: 0.7004 - accuracy: 0.7466 - val_loss: 0.6741 - val_accuracy: 0.7868\n"
          ]
        }
      ],
      "source": [
        "history = model.fit(train_dataset, validation_data=test_dataset, epochs=7, batch_size=64)"
      ]
    },
    {
      "cell_type": "markdown",
      "source": [
        "# Saving Model"
      ],
      "metadata": {
        "id": "IhVuuJdLMfAM"
      }
    },
    {
      "cell_type": "code",
      "source": [
        "model.save_weights('gdrive/MyDrive/HackEPS2022/lila.pth')"
      ],
      "metadata": {
        "id": "teg2et09MhUI"
      },
      "execution_count": 25,
      "outputs": []
    },
    {
      "cell_type": "markdown",
      "source": [
        "# Generating plots from the training"
      ],
      "metadata": {
        "id": "9I1qXLx3t6dQ"
      }
    },
    {
      "cell_type": "code",
      "execution_count": 26,
      "metadata": {
        "id": "SdHlMy3hx_ix",
        "colab": {
          "base_uri": "https://localhost:8080/",
          "height": 312
        },
        "outputId": "5e624f12-02cb-46d2-e1a7-2ed2f38e077d"
      },
      "outputs": [
        {
          "output_type": "stream",
          "name": "stdout",
          "text": [
            "dict_keys(['loss', 'accuracy', 'val_loss', 'val_accuracy'])\n"
          ]
        },
        {
          "output_type": "display_data",
          "data": {
            "text/plain": [
              "<Figure size 432x288 with 1 Axes>"
            ],
            "image/png": "[encoded data removed]"
          },
          "metadata": {
            "needs_background": "light"
          }
        }
      ],
      "source": [
        "# list all data in history\n",
        "print(history.history.keys())\n",
        "# summarize history for accuracy\n",
        "plt.plot(history.history['accuracy'])\n",
        "plt.plot(history.history['val_accuracy'])\n",
        "plt.title('model accuracy')\n",
        "plt.ylabel('accuracy')\n",
        "plt.xlabel('epoch')\n",
        "plt.legend(['train', 'test'], loc='upper left')\n",
        "plt.show()\n"
      ]
    },
    {
      "cell_type": "code",
      "execution_count": 27,
      "metadata": {
        "id": "_y2jPIlZyBOD",
        "colab": {
          "base_uri": "https://localhost:8080/",
          "height": 295
        },
        "outputId": "7f92f614-d3c1-48cb-9d35-bb012eacc2cb"
      },
      "outputs": [
        {
          "output_type": "display_data",
          "data": {
            "text/plain": [
              "<Figure size 432x288 with 1 Axes>"
            ],
            "image/png": "[encoded data removed]"
          },
          "metadata": {
            "needs_background": "light"
          }
        }
      ],
      "source": [
        "# summarize history for loss\n",
        "plt.plot(history.history['loss'])\n",
        "plt.plot(history.history['val_loss'])\n",
        "plt.title('model loss')\n",
        "plt.ylabel('loss')\n",
        "plt.xlabel('epoch')\n",
        "plt.legend(['train', 'test'], loc='upper left')\n",
        "plt.show()"
      ]
    }
  ],
  "metadata": {
    "colab": {
      "provenance": [],
      "include_colab_link": true
    },
    "kernelspec": {
      "display_name": "Python 3",
      "name": "python3"
    },
    "language_info": {
      "name": "python"
    }
  },
  "nbformat": 4,
  "nbformat_minor": 0
}